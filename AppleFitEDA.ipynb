{
 "cells": [
  {
   "cell_type": "markdown",
   "metadata": {},
   "source": [
    "David Giacobbi  \n",
    "Gonzaga University  \n",
    "CPSC 222, Spring 2022\n",
    "\n",
    "# Exploratory Data Analysis: Apple Watch Fitness Data\n",
    "\n",
    "## Introduction\n",
    "\n",
    "During my first year of college, fitness has been a critical aspect of my daily life and routine. In a place where nearly everything is in walking distance and I have the free time to workout on an ordered schedule, I realized fitness has a large impact on my daily habits. Moreover, I recently got an Apple Watch over Christmas break, so a detailed and accurate analysis of my fitness data was accessible for the Spring 2022 semester.\n",
    "\n",
    "Fitness data is a large spectrum, so I wanted to focus my project specifically on how certain day attributes affect health and workout activity. Visualizing and testing trends could help answer a few of the following questions:\n",
    "\n",
    "* Does the type of weather affect the amount I workout?\n",
    "* Is my workout intensity influenced by the weather?\n",
    "* How does the day of the week affect how active I am?\n",
    "* Am I more active on the weekends when I have more free time or does a structured weekday schedule have a greater effect?\n",
    "\n",
    "In order to answer these questions, data cannot just be extracted from my Apple Watch. In addition to csv files from my Apple Watch, I will utilize an open-source API to create a JSON file of the weather.\n",
    "\n",
    "Through this exploratory data analysis, I will be able to get a better understanding of just what influences my fitness habits. Information like this could help me improve my daily schedule to workout more effectively as well as find areas in my schedule where fitness could improve. Furthermore, a focused analysis such as this one could draw more general conclusions about how the workout mindset is influenced by both weather and times during the week."
   ]
  },
  {
   "cell_type": "markdown",
   "metadata": {},
   "source": [
    "### Load the Data\n",
    "\n",
    "In order to perform an extensive analysis of my Apple watch data, I need to gather data from various sources so that I can see what exactly influences my fitness activity and what trends I have created over the past semester. The following datasets will be loaded and cleaned for further analysis:\n",
    "\n",
    "1. Apple Daily Health data (12/26/2021 - 4/12/2022): csv file\n",
    "1. Apple Workout data (12/26/2021 - 4/12/2022): csv file\n",
    "1. MeteoStat Daily Weather data: JSON file\n",
    "1. Days of the Week data: created from `daily_health_data.csv`\n",
    "\n",
    "#### Loading the CSV Files\n",
    "\n",
    "The Apple Watch data needs to be uploaded into `Pandas` dataframes so that they can be properly cleaned for analysis. Since this will be the dataframe that the other data files will be surrounded around, date will likely be the joining attribute. This can be done with a few quick lines of code below:"
   ]
  },
  {
   "cell_type": "code",
   "execution_count": 450,
   "metadata": {},
   "outputs": [
    {
     "name": "stdout",
     "output_type": "stream",
     "text": [
      "Index(['Date', 'Calories', 'Exercise Time (min)', 'Stand Hours',\n",
      "       'Flights Climbed', 'Heart Rate', 'Max Heart Rate', 'Avg Heart Rate',\n",
      "       'Rest Heart Rate', 'Step Count', 'Distance (mi) '],\n",
      "      dtype='object')\n"
     ]
    }
   ],
   "source": [
    "import pandas as pd\n",
    "\n",
    "daily_health_df = pd.read_csv(\"daily_health_data.csv\")\n",
    "\n",
    "print(daily_health_df.columns)"
   ]
  },
  {
   "cell_type": "markdown",
   "metadata": {},
   "source": [
    "The data from the above csv file was retrieved from an application on my iPhone called [Health Auto Export](https://apps.apple.com/us/app/health-auto-export-json-csv/id1115567069). Using an Apple shortcut, Health Auto Export was able to generate an extensive csv file of various health attributes. Each attribute listed above will be cleaned or deleted, depending on its relative performance. The below attributes are the ones that will be kept for further analysis.\n",
    "\n",
    "* **Date**: unique day instance\n",
    "* **Calories**: total active calories burned (kcal)\n",
    "* **Exercise Time**: total exercise time (min)\n",
    "* **Flights Climbed**: total flights of stairs climbed\n",
    "* **Max Heart Rate**: highest heart rate reached (bpm)\n",
    "* **Avg Heart Rate**: average heart rate throughout day (bpm)\n",
    "* **Rest Heart Rate**: resting heart rate (bpm)\n",
    "* **Step Count**: total steps taken\n",
    "* **Distance**: total active distance covered (mi)\n",
    "  \n",
    "  \n",
    "  \n",
    "The next Apple Watch csv file is workout centered. This file includes data relating to specific workout instances. Date cannot be used as this file's index as there are multiple workouts logged under the same day. However, the start time of the workout is unique and can be used to join with other dataframes."
   ]
  },
  {
   "cell_type": "code",
   "execution_count": 451,
   "metadata": {},
   "outputs": [
    {
     "name": "stdout",
     "output_type": "stream",
     "text": [
      "Index(['Type', 'Date', 'End', 'Duration', 'Total Energy (kcal)',\n",
      "       'Active Energy (kcal)', 'Max Heart Rate (bpm)', 'Avg Heart Rate (bpm)',\n",
      "       'Distance (mi)', 'Avg Speed(mi/hr)', 'Step Count (count)',\n",
      "       'Step Cadence (spm)', 'Swim Stroke Count (count)',\n",
      "       'Swim Stroke Cadence (spm)', 'Flights Climbed (count)',\n",
      "       'Elevation Ascended (ft)', 'Elevation Descended (ft)'],\n",
      "      dtype='object')\n"
     ]
    }
   ],
   "source": [
    "workout_df = pd.read_csv(\"workouts_data.csv\")\n",
    "workout_df.rename(columns={\"Start\": \"Date\"}, inplace=True)\n",
    "\n",
    "print(workout_df.columns)"
   ]
  },
  {
   "cell_type": "markdown",
   "metadata": {},
   "source": [
    "This workout data was also retrieved using the iPhone app [Health Auto Export](https://apps.apple.com/us/app/health-auto-export-json-csv/id1115567069). The Apple shortcut used to create this csv file did not allow for decisions to be made about which attributes to use. Therefore, half of these attributes will be used for data analysis. Below are the attributes that will be used for further analysis:\n",
    "\n",
    "* **Date**: date and time of workout start\n",
    "* **Type**: type of workout completed\n",
    "* **Duration**: total time of workout (min)\n",
    "* **Total Energy**: total calories burned in workout (kcal)\n",
    "* **Max Heart Rate**: highest heart rate reached (bpm)\n",
    "* **Avg Heart Rate**: average workout heart rate\n",
    "\n",
    "#### Loading the JSON File\n",
    "\n",
    "The next data extraction that needs to be completed is the daily weather data for the city of Spokane over the course of this past semester. Found on RapidAPI's website, [MeteoStat's Daily Station API](https://rapidapi.com/meteostat/api/meteostat/) will be used to get a JSON file of the weather data for Spokane from 12/26/2021 - 4/12/2021.\n",
    "\n",
    "Using [MeteoStat's Station Finder](https://meteostat.net/en/place/us/spokane?t=2022-04-05/2022-04-12&s=KSFF0), Spokane's weather station can be used to create a JSON file with more detailed weather analysis. The code belows uses the above API to get the JSON file, parse through the necessary data, and write it to a `Pandas` dataframe for further analysis:"
   ]
  },
  {
   "cell_type": "code",
   "execution_count": 452,
   "metadata": {},
   "outputs": [
    {
     "name": "stdout",
     "output_type": "stream",
     "text": [
      "           Date  tavg  tmin  tmax   prcp  snow   wdir  wspd  wpgt    pres  \\\n",
      "0    2021-12-26  28.2  25.0  32.0  0.043  None  244.0   5.4  None   997.4   \n",
      "1    2021-12-27  19.4  14.0  25.0  0.024  None  281.0   4.9  None  1006.3   \n",
      "2    2021-12-28  13.3   8.1  17.1  0.000  None  347.0   2.2  None  1010.2   \n",
      "3    2021-12-29  13.1   8.1  17.1  0.000  None  324.0   4.2  None  1012.7   \n",
      "4    2021-12-30  14.9  12.0  17.1  0.177  None    4.0   1.7  None  1006.3   \n",
      "..          ...   ...   ...   ...    ...   ...    ...   ...   ...     ...   \n",
      "103  2022-04-08  48.6  39.2  57.2  0.205  None  207.0  12.6  None  1016.0   \n",
      "104  2022-04-09  40.8  32.0  50.0  0.047  None  228.0  11.7  None  1017.0   \n",
      "105  2022-04-10  35.2  28.4  44.6  0.039  None  218.0   6.3  None  1012.2   \n",
      "106  2022-04-11  35.2  28.4  41.0  0.020  None   53.0  11.9  None  1001.2   \n",
      "107  2022-04-12  36.9  32.0  42.8  0.020  None   59.0  11.1  None  1013.5   \n",
      "\n",
      "     tsun  \n",
      "0    None  \n",
      "1    None  \n",
      "2    None  \n",
      "3    None  \n",
      "4    None  \n",
      "..    ...  \n",
      "103  None  \n",
      "104  None  \n",
      "105  None  \n",
      "106  None  \n",
      "107  None  \n",
      "\n",
      "[108 rows x 11 columns]\n"
     ]
    }
   ],
   "source": [
    "import json\n",
    "import requests\n",
    "\n",
    "weather_url = \"https://meteostat.p.rapidapi.com/stations/daily\"\n",
    "\n",
    "weather_key = \"48c6248dd3msh5bf7b8a377bd25cp19e73ajsn114ccda534b5\"\n",
    "weather_headers = {\"x-rapidapi-key\": weather_key}\n",
    "weather_query = {\"station\": \"KSFF0\", \"start\": \"2021-12-26\", \"end\": \"2022-04-12\", \"units\": \"imperial\"}\n",
    "\n",
    "weather_response = requests.get(url=weather_url, headers=weather_headers, params=weather_query)\n",
    "\n",
    "# Parse through json object and storel data in dataframe for return\n",
    "weather_json_obj = json.loads(weather_response.text)\n",
    "weather_data_list = weather_json_obj[\"data\"]\n",
    "\n",
    "daily_weather_df = pd.DataFrame(weather_data_list)\n",
    "daily_weather_df.rename(columns={\"date\": \"Date\"}, inplace=True)\n",
    "\n",
    "print(daily_weather_df)"
   ]
  },
  {
   "cell_type": "markdown",
   "metadata": {},
   "source": [
    "In order to compare weather data with health data, date will be the attribute to join. This JSON file provides extensive information about the daily weather; however, some of these attributes do not apply to the cross-analysis with the Apple Watch data. The below attributes will be kept and cleaned for future analysis:\n",
    "\n",
    "* **date**: unique day instance\n",
    "* **tavg**: average temperature (Fahrenheit)\n",
    "* **tmin**: lowest temperature of the day (Fahrenheit)\n",
    "* **tmax**: highest temperature of the day (Fahrenheit)\n",
    "* **prcp**: total precipitation (in)\n",
    "* **wspd**: average wind speed (mi/hr)"
   ]
  },
  {
   "cell_type": "markdown",
   "metadata": {},
   "source": [
    "#### Creating the Days of the Week Dataframe\n",
    "\n",
    "The Days of the Week file is important in weekend v. weekday analysis. In order to create a `Pandas` dataframe of this information, the timestamp of each day and days of week need to be added to an empty dataframe. [GeeksForGeeks](https://www.geeksforgeeks.org/python-pandas-date_range-method/#:~:text=date_range()%20is%20one%20of,return%20a%20fixed%20frequency%20DatetimeIndex.&text=Parameters%3A,Right%20bound%20for%20generating%20dates.) and [Stack Overflow](https://stackoverflow.com/questions/30222533/create-a-day-of-week-column-in-a-pandas-dataframe-using-python) were used to create this dataframe from scratch."
   ]
  },
  {
   "cell_type": "code",
   "execution_count": 453,
   "metadata": {},
   "outputs": [
    {
     "name": "stdout",
     "output_type": "stream",
     "text": [
      "          Date Day of Week\n",
      "0   2021-12-26      Sunday\n",
      "1   2021-12-27      Monday\n",
      "2   2021-12-28     Tuesday\n",
      "3   2021-12-29   Wednesday\n",
      "4   2021-12-30    Thursday\n",
      "..         ...         ...\n",
      "103 2022-04-08      Friday\n",
      "104 2022-04-09    Saturday\n",
      "105 2022-04-10      Sunday\n",
      "106 2022-04-11      Monday\n",
      "107 2022-04-12     Tuesday\n",
      "\n",
      "[108 rows x 2 columns]\n"
     ]
    }
   ],
   "source": [
    "days_of_week_df = pd.DataFrame()\n",
    "\n",
    "days_of_week_df[\"Date\"] = pd.Series(pd.date_range('2021-12-26', '2022-04-12', freq='D'))\n",
    "days_of_week_df[\"Day of Week\"] = days_of_week_df[\"Date\"].dt.day_name()\n",
    "\n",
    "print(days_of_week_df)"
   ]
  },
  {
   "cell_type": "markdown",
   "metadata": {},
   "source": [
    "### Potential Results\n",
    "\n",
    "After loading the data, it is clear there are various routes that can be taken in what to classify from this massive dataset. Since, one of the central ideas of this project focuses on how my workout health has been influenced external factors, classifying an external factor could be quite beneficial. Therefore, the time of the week will be classified later based on my daily workout information.\n",
    "\n",
    "Initially, this project may appear to have very little use to anyone other than myself, given that the data comes from my own health. However, further research from other college students could contribute to a general conclusion about how active health is influenced by weather and time. If any major trends are to arise from my own data anlysis, there is potential that these trends could be present in other students' own health habits. "
   ]
  },
  {
   "cell_type": "markdown",
   "metadata": {},
   "source": [
    "## Data Analysis\n",
    "\n",
    "Now that all of the necessary data has been loaded into dataframes, the data analysis can proceed. After each dataframe has been combed through for missing values, the cleaned sets can then be visualized, joined, and compared. The next part will take the following steps to get a better grasps of relations among the dataframes:\n",
    "\n",
    "1. Data Cleaning\n",
    "1. Data Aggregation\n",
    "1. Data Visualization\n",
    "1. Hypothesis Testing\n",
    "\n",
    "### Data Cleaning\n",
    "\n",
    "As mentioned in the introduction, some of the datasets have unnecessary attributes that clutter the dataset and missing values that need to be filled. This needs to be taken care of before the data can be joined and compared.\n",
    "\n",
    "#### Daily Health Dataframe\n",
    "\n",
    "This dataset will delete the following attribute columns due to irrelevance or lack of data points for further analysis:\n",
    "\n",
    "* Heart Rate\n",
    "* Stand Hours"
   ]
  },
  {
   "cell_type": "code",
   "execution_count": 454,
   "metadata": {},
   "outputs": [
    {
     "name": "stdout",
     "output_type": "stream",
     "text": [
      "Index(['Date', 'Calories', 'Exercise Time (min)', 'Flights Climbed',\n",
      "       'Max Heart Rate', 'Avg Heart Rate', 'Rest Heart Rate', 'Step Count',\n",
      "       'Distance (mi) '],\n",
      "      dtype='object')\n"
     ]
    }
   ],
   "source": [
    "daily_health_df.drop(\"Heart Rate\", axis=1, inplace=True)\n",
    "daily_health_df.drop(\"Stand Hours\", axis=1, inplace=True)\n",
    "\n",
    "print(daily_health_df.columns)"
   ]
  },
  {
   "cell_type": "markdown",
   "metadata": {},
   "source": [
    "Now that the unnecessary columns have been deleted, missing values need to be filled. After looking at the data, a couple of different types of data fills will be used. For this dataframe, the following attributes will use this type of fill:\n",
    "\n",
    "1. **Exercise Time**: fill with `0` since not enough exercise was completed to log\n",
    "1. **Flights Climbed**: fill with `0` as days without enough elevation gain did not register a flight climbed\n",
    "1. **Rest Heart Rate**: interpolate middle value since only few days are missing"
   ]
  },
  {
   "cell_type": "code",
   "execution_count": 455,
   "metadata": {},
   "outputs": [],
   "source": [
    "import numpy as np\n",
    "\n",
    "daily_health_df[\"Exercise Time (min)\"].fillna(0, inplace=True)\n",
    "\n",
    "daily_health_df[\"Flights Climbed\"].fillna(0, inplace=True)\n",
    "\n",
    "daily_health_df[\"Rest Heart Rate\"].interpolate(method=\"linear\", limit_direction=\"forward\", inplace=True)"
   ]
  },
  {
   "cell_type": "markdown",
   "metadata": {},
   "source": [
    "#### Workout Dataframe\n",
    "\n",
    "The only cleaning that needs to be completed for the workout dataframe is deletion of columns with non-essential data. Some other columns lack enough data points to be used for statistical analysis. Therefore, the following attributes will be removed from this dataframe:\n",
    "\n",
    "* End\n",
    "* Active Energy (kcal)\n",
    "* Distance (mi)\n",
    "* Avg Speed (mi/hr)\n",
    "* Step Count (count)\n",
    "* Step Cadence (spm)\n",
    "* Swim Stroke Count (count)\n",
    "* Swim Stroke Cadence (count)\n",
    "* Flights Climbed (count)\n",
    "* Elevation Ascended (ft)\n",
    "* Elevation Descended (ft)"
   ]
  },
  {
   "cell_type": "code",
   "execution_count": 456,
   "metadata": {},
   "outputs": [
    {
     "name": "stdout",
     "output_type": "stream",
     "text": [
      "Index(['Type', 'Date', 'Duration', 'Total Energy (kcal)',\n",
      "       'Max Heart Rate (bpm)', 'Avg Heart Rate (bpm)'],\n",
      "      dtype='object')\n"
     ]
    }
   ],
   "source": [
    "workout_df.drop(\"End\", axis=1, inplace=True)\n",
    "workout_df.drop(\"Active Energy (kcal)\", axis=1, inplace=True)\n",
    "workout_df.drop(\"Distance (mi)\", axis=1, inplace=True)\n",
    "workout_df.drop(\"Avg Speed(mi/hr)\", axis=1, inplace=True)\n",
    "workout_df.drop(\"Step Count (count)\", axis=1, inplace=True)\n",
    "workout_df.drop(\"Step Cadence (spm)\", axis=1, inplace=True)\n",
    "workout_df.drop(\"Swim Stroke Count (count)\", axis=1, inplace=True)\n",
    "workout_df.drop(\"Swim Stroke Cadence (spm)\", axis=1, inplace=True)\n",
    "workout_df.drop(\"Flights Climbed (count)\", axis=1, inplace=True)\n",
    "workout_df.drop(\"Elevation Ascended (ft)\", axis=1, inplace=True)\n",
    "workout_df.drop(\"Elevation Descended (ft)\", axis=1, inplace=True)\n",
    "\n",
    "print(workout_df.columns)"
   ]
  },
  {
   "cell_type": "markdown",
   "metadata": {},
   "source": [
    "#### Daily Weather Dataframe\n",
    "\n",
    "Similar to the workout dataframe there is little work that needs to be done in order to prepare it for statistical analysis. There are a few columns that do not have necessary information for visualization, so the following attributes will be removed from the dataframe:\n",
    "\n",
    "* snow (snow fallen)\n",
    "* wdir (wind direction)\n",
    "* wpgt (peak wind gust)\n",
    "* pres (sea-level air pressure)\n",
    "* tsun (sunshine total in min)\n",
    "\n",
    "Additionally, the temperature average has one missing data value, so this will be filled using interpolation."
   ]
  },
  {
   "cell_type": "code",
   "execution_count": 457,
   "metadata": {},
   "outputs": [
    {
     "name": "stdout",
     "output_type": "stream",
     "text": [
      "Index(['Date', 'tavg', 'tmin', 'tmax', 'prcp', 'wspd'], dtype='object')\n"
     ]
    }
   ],
   "source": [
    "daily_weather_df.drop(\"snow\", axis=1, inplace=True)\n",
    "daily_weather_df.drop(\"wdir\", axis=1, inplace=True)\n",
    "daily_weather_df.drop(\"wpgt\", axis=1, inplace=True)\n",
    "daily_weather_df.drop(\"pres\", axis=1, inplace=True)\n",
    "daily_weather_df.drop(\"tsun\", axis=1, inplace=True)\n",
    "\n",
    "daily_weather_df[\"tavg\"].interpolate(method=\"linear\", limit_direction=\"forward\", inplace=True)\n",
    "\n",
    "print(daily_weather_df.columns)"
   ]
  },
  {
   "cell_type": "markdown",
   "metadata": {},
   "source": [
    "### Data Aggregation\n",
    "\n",
    "In order to properly find trends to visualize and test on, the cleaned dataframes need to be joined and organized by specific attributes. The tricky part to this first join is that the `\"Date\"` attribute for the daily health is not in a string format. The following code changes this attribute to a string before merging daily health with daily weather:"
   ]
  },
  {
   "cell_type": "code",
   "execution_count": 458,
   "metadata": {},
   "outputs": [
    {
     "name": "stdout",
     "output_type": "stream",
     "text": [
      "Index(['Date', 'Calories', 'Exercise Time (min)', 'Flights Climbed',\n",
      "       'Max Heart Rate', 'Avg Heart Rate', 'Rest Heart Rate', 'Step Count',\n",
      "       'Distance (mi) ', 'tavg', 'tmin', 'tmax', 'prcp', 'wspd'],\n",
      "      dtype='object')\n"
     ]
    }
   ],
   "source": [
    "string_list = []\n",
    "\n",
    "for i in range(len(daily_health_df[\"Date\"])):\n",
    "   date_temp = str(daily_health_df[\"Date\"][i])\n",
    "   date_string = date_temp.split(\" \")\n",
    "   string_list.append(date_string[0])\n",
    "\n",
    "string_ser = pd.Series(string_list)\n",
    "daily_health_df[\"Date\"] = string_ser\n",
    "\n",
    "daily_merged_df = daily_health_df.merge(daily_weather_df, on=\"Date\", how=\"outer\")\n",
    "\n",
    "print(daily_merged_df.columns)"
   ]
  },
  {
   "cell_type": "markdown",
   "metadata": {},
   "source": [
    "The next aggregation that needs to be done is with the day of the week dataframe. The day of the week attribute needs to be added on to both the `daily_merged_df` and the `workout_df`."
   ]
  },
  {
   "cell_type": "code",
   "execution_count": 459,
   "metadata": {},
   "outputs": [
    {
     "name": "stdout",
     "output_type": "stream",
     "text": [
      "Index(['Date', 'Calories', 'Exercise Time (min)', 'Flights Climbed',\n",
      "       'Max Heart Rate', 'Avg Heart Rate', 'Rest Heart Rate', 'Step Count',\n",
      "       'Distance (mi) ', 'tavg', 'tmin', 'tmax', 'prcp', 'wspd',\n",
      "       'Day of Week'],\n",
      "      dtype='object')\n",
      "Index(['Date', 'Day of Week', 'Type', 'Duration', 'Total Energy (kcal)',\n",
      "       'Max Heart Rate (bpm)', 'Avg Heart Rate (bpm)'],\n",
      "      dtype='object')\n"
     ]
    }
   ],
   "source": [
    "daily_merged_df[\"Day of Week\"] = days_of_week_df[\"Day of Week\"]\n",
    "print(daily_merged_df.columns)\n",
    "\n",
    "string_list2 = []\n",
    "\n",
    "for i in range(len(workout_df[\"Date\"])):\n",
    "   date_temp = str(workout_df[\"Date\"][i])\n",
    "   date_string = date_temp.split(\" \")\n",
    "   string_list2.append(date_string[0])\n",
    "\n",
    "string_ser2 = pd.Series(string_list2)\n",
    "workout_df[\"Date\"] = string_ser2\n",
    "\n",
    "string_list3 = []\n",
    "\n",
    "for i in range(len(days_of_week_df[\"Date\"])):\n",
    "   date_temp = str(days_of_week_df[\"Date\"][i])\n",
    "   date_string = date_temp.split(\" \")\n",
    "   string_list3.append(date_string[0])\n",
    "\n",
    "string_ser3 = pd.Series(string_list3)\n",
    "days_of_week_df[\"Date\"] = string_ser3\n",
    "\n",
    "workout_merged_df = days_of_week_df.merge(workout_df, on=\"Date\", how=\"inner\")\n",
    "print(workout_merged_df.columns)"
   ]
  },
  {
   "cell_type": "markdown",
   "metadata": {},
   "source": [
    "#### Data Preparation Challenges\n",
    "\n",
    "For my datasets in particular, merging was one fo the major issues. Though the daily health data provided information about my activity every day, the workout dataset only consists of instances in which a workout was performed. This is an issue because there were multiple days where more than one workout was completed; likewise, there were many days in which no workout was logged.\n",
    "\n",
    "In order to solve this problem, an inner and outer join were completed. One join included the daily health data, days of the week data, and weather data. The other join included the workout data and the days of the week.\n",
    "\n",
    "Though both the daily health and the workout provide telling information about my overall health and activity, each provide unique attributes that can be analyzed separately. Analyzing each merged dataset with visualizations and hypothesis testing will combine in the end to provide an overarching conclusion about how external factors affect my physical health."
   ]
  },
  {
   "cell_type": "markdown",
   "metadata": {},
   "source": [
    "### Data Visualization\n",
    "\n",
    "Now that data aggregation is complete, the dataset is finally ready to be analyzed statistically. To better understand potential trends, the statistics will be displayed on graphs. Using the `matplotlib` library, a variety of line and bar plots will be drawn to see what connections can be made between fitness and weather/time of week.\n",
    "\n",
    "#### Active Calories and Average Temperature\n",
    "\n",
    "The first scatter plot will help to see if there is any correlation between the weather and fitness activity. Though it would seem that one could be less likely to exercise on colder days, my hypothesis is that there is no correlation between the two as I often worked out indoors this semester.\n",
    "\n",
    "In order to verify this correlation assumption, a line of best fit should be drawn through the data. Analyzing the correlation value ($r$), a number will statistically identify how much of a relationship there is between the two variables. The closer the number is to 1.0, the more of a relationship there is between the temperature and calories burned."
   ]
  },
  {
   "cell_type": "code",
   "execution_count": 460,
   "metadata": {},
   "outputs": [
    {
     "name": "stdout",
     "output_type": "stream",
     "text": [
      "r (correlation value): 0.3818041776940187\n",
      "Linear Equation: y = 14.87x + 340.02\n"
     ]
    },
    {
     "data": {
      "image/png": "[encoded data removed]",
      "text/plain": [
       "<Figure size 432x288 with 1 Axes>"
      ]
     },
     "metadata": {
      "needs_background": "light"
     },
     "output_type": "display_data"
    }
   ],
   "source": [
    "from scipy import stats\n",
    "import matplotlib.pyplot as plt\n",
    "\n",
    "x_ser = pd.Series(daily_merged_df[\"tavg\"])\n",
    "y_ser = pd.Series(daily_merged_df[\"Calories\"])\n",
    "\n",
    "m, b, r, r_pval, std_err = stats.linregress(x_ser, y_ser)\n",
    "\n",
    "print(\"r (correlation value):\", r)\n",
    "print(\"Linear Equation: y = \", round(m, 2), \"x + \", round(b, 2), sep=\"\")\n",
    "\n",
    "plt.figure()\n",
    "plt.plot(x_ser, m*x_ser + b, color=\"red\")\n",
    "plt.scatter(daily_merged_df[\"tavg\"], daily_merged_df[\"Calories\"], color=\"blue\")\n",
    "plt.title(\"Average Temperature v. Calories Burned\")\n",
    "plt.xlabel(\"Temperature ($^\\circ$F)\")\n",
    "plt.ylabel(\"Calories (kcal)\")\n",
    "plt.show()"
   ]
  },
  {
   "cell_type": "markdown",
   "metadata": {},
   "source": [
    "#### Exercise Time and Average Temperature\n",
    "\n",
    "Calories do not tell the whole story about how my physical activity is influenced by weather. In order to get a better idea of this, the average daily temperature needs to be analyzed with another health factor: Exercise Time (min). By checking the correlation value of this relationship, a better conclusion can be drawn about the potential of causation between weather and activity."
   ]
  },
  {
   "cell_type": "code",
   "execution_count": 461,
   "metadata": {},
   "outputs": [
    {
     "name": "stdout",
     "output_type": "stream",
     "text": [
      "r (correlation value): 0.4692152542948338\n",
      "Linear Equation: y = 2.06x + -4.9\n"
     ]
    },
    {
     "data": {
      "image/png": "[encoded data removed]",
      "text/plain": [
       "<Figure size 432x288 with 1 Axes>"
      ]
     },
     "metadata": {
      "needs_background": "light"
     },
     "output_type": "display_data"
    }
   ],
   "source": [
    "from scipy import stats\n",
    "\n",
    "x_ser = pd.Series(daily_merged_df[\"tavg\"])\n",
    "y_ser = pd.Series(daily_merged_df[\"Exercise Time (min)\"])\n",
    "\n",
    "m, b, r, r_pval, std_err = stats.linregress(x_ser, y_ser)\n",
    "\n",
    "print(\"r (correlation value):\", r)\n",
    "print(\"Linear Equation: y = \", round(m, 2), \"x + \", round(b, 2), sep=\"\")\n",
    "\n",
    "plt.figure()\n",
    "plt.scatter(x_ser, y_ser, color=\"blue\")\n",
    "plt.plot(x_ser, m*x_ser + b, color=\"red\")\n",
    "plt.title(\"Average Temperature v. Exercise Time (min)\")\n",
    "plt.xlabel(\"Exercise Time (min)\")\n",
    "plt.ylabel(\"Calories (kcal)\")\n",
    "plt.show()"
   ]
  },
  {
   "cell_type": "markdown",
   "metadata": {},
   "source": [
    "This scatter plot almost seems to confirm my hypothesis that there is little correlation between weather and my fitness activity. The correlation value tells that there is some connection between the two factors; however, it is fairly low to be considered. Further testing will be required to confirm this hypothesis."
   ]
  },
  {
   "cell_type": "markdown",
   "metadata": {},
   "source": [
    "#### Day of Week and Workout Duration\n",
    "\n",
    "The next trend that should be further analyzed is how the day of the week affects my fitness. For this visualization, a bar chart will work best in depicting how average workout duration changes depending on the day."
   ]
  },
  {
   "cell_type": "code",
   "execution_count": 462,
   "metadata": {},
   "outputs": [
    {
     "data": {
      "image/png": "[encoded data removed]",
      "text/plain": [
       "<Figure size 432x288 with 1 Axes>"
      ]
     },
     "metadata": {
      "needs_background": "light"
     },
     "output_type": "display_data"
    }
   ],
   "source": [
    "grouped_day_df = daily_merged_df.groupby(\"Day of Week\")\n",
    "\n",
    "day_list = [\"Sunday\", \"Monday\", \"Tuesday\", \"Wednesday\", \"Thursday\", \"Friday\", \"Saturday\"]\n",
    "mean_exer_ser = pd.Series(dtype=int)\n",
    "\n",
    "for day, day_df in grouped_day_df:\n",
    "    group_mean_data = day_df[\"Exercise Time (min)\"].mean()\n",
    "    mean_exer_ser[day] = group_mean_data\n",
    "\n",
    "plt.figure()\n",
    "plt.bar(day_list, mean_exer_ser, color=\"red\")\n",
    "plt.title(\"Day of Week v. Average Daily Exercise Time\")\n",
    "plt.xlabel(\"Day of Week\")\n",
    "plt.ylabel(\"Exercise Time (min)\")\n",
    "plt.tight_layout()\n",
    "plt.show()"
   ]
  },
  {
   "cell_type": "markdown",
   "metadata": {},
   "source": [
    "This bar chart provides some telling information about how my week plays out. It appears that my week takes this gradual dip during the middle of the week. However, at the start and end of the week, I seem to have the most energy to go and workout for longer durations.\n",
    "\n",
    "#### Day of Week and Total Calories Burned\n",
    "\n",
    "Exercise time, however, does not tell the whole story. The Apple Watch always logs time when you are active. This includes, and is not limited to, light cardio activities such as walking and climbing stairs during the day. In order to get a better gauge of how fitness-focused time is affected by the day of the week, the workout dataframe needs to be used. This next bar chart will compare the total calories burned in focused workouts throughout the week."
   ]
  },
  {
   "cell_type": "code",
   "execution_count": 463,
   "metadata": {},
   "outputs": [
    {
     "data": {
      "image/png": "[encoded data removed]",
      "text/plain": [
       "<Figure size 432x288 with 1 Axes>"
      ]
     },
     "metadata": {
      "needs_background": "light"
     },
     "output_type": "display_data"
    }
   ],
   "source": [
    "grouped_day_df2 = workout_merged_df.groupby(\"Day of Week\")\n",
    "\n",
    "day_list = [\"Sunday\", \"Monday\", \"Tuesday\", \"Wednesday\", \"Thursday\", \"Friday\", \"Saturday\"]\n",
    "avg_ener_ser = pd.Series(dtype=float)\n",
    "\n",
    "for day, day_df in grouped_day_df2:\n",
    "    group_mean_data2 = day_df[\"Total Energy (kcal)\"].sum()\n",
    "    avg_ener_ser[day] = group_mean_data2\n",
    "\n",
    "plt.figure()\n",
    "plt.bar(day_list, avg_ener_ser, color=\"red\")\n",
    "plt.title(\"Day of Week v. Total Calories Burned\")\n",
    "plt.xlabel(\"Day of Week\")\n",
    "plt.ylabel(\"Total Calories (kcal)\")\n",
    "plt.tight_layout()\n",
    "plt.show()"
   ]
  },
  {
   "cell_type": "markdown",
   "metadata": {},
   "source": [
    "Similar to the previous bar chart, there is a similar shape to this one. The majority of active calories are burned during the ends of the week while the middle has the lowest calorie totals. This is a surprise to me as I expected the weekday to have the highest calorie numbers, which is when I typically have time to go to the gym.\n",
    "\n",
    "#### Rest Heart Rate and Date\n",
    "\n",
    "Another important trend to analyze is how my overall cardio health improved over the semester, if at all. People who have lower resting heart rates tend to be in better cardiac shape. Given that the majority of my workouts were weightlifting, did my heart rate still manage to improve?\n",
    "\n",
    "In order to answer this question, another scatter plot with line of best fit needs to be drawn and analyzed below:"
   ]
  },
  {
   "cell_type": "code",
   "execution_count": 475,
   "metadata": {},
   "outputs": [
    {
     "name": "stdout",
     "output_type": "stream",
     "text": [
      "r (correlation value): -0.04737515354267776\n",
      "Linear Equation: y = -0.01x + 60.45\n"
     ]
    },
    {
     "data": {
      "image/png": "[encoded data removed]",
      "text/plain": [
       "<Figure size 432x288 with 1 Axes>"
      ]
     },
     "metadata": {
      "needs_background": "light"
     },
     "output_type": "display_data"
    }
   ],
   "source": [
    "from scipy import stats\n",
    "\n",
    "x_ser = pd.Series(daily_merged_df.index)\n",
    "y_ser = pd.Series(daily_merged_df[\"Rest Heart Rate\"])\n",
    "\n",
    "m, b, r, r_pval, std_err = stats.linregress(x_ser, y_ser)\n",
    "\n",
    "print(\"r (correlation value):\", r)\n",
    "print(\"Linear Equation: y = \", round(m, 2), \"x + \", round(b, 2), sep=\"\")\n",
    "\n",
    "plt.figure()\n",
    "plt.scatter(x_ser, y_ser, color=\"orange\")\n",
    "plt.plot(x_ser, m*x_ser + b, color=\"purple\")\n",
    "plt.title(\"Time v. Resting Heart Rate\")\n",
    "plt.xlabel(\"Time (days)\")\n",
    "plt.ylabel(\"Resting Heart Rate (bpm)\")\n",
    "plt.show()"
   ]
  },
  {
   "cell_type": "markdown",
   "metadata": {},
   "source": [
    "This scatter plot clearly depicts a lack of change in my resting heart rate over the semester. With a correlation value of nearly 0, it is apparent that weightlifting does not have major influence on my cardio health. Further research would need to be conducted to see if higher intensity cardio workouts such as running would influence my resting heart rate more."
   ]
  },
  {
   "cell_type": "markdown",
   "metadata": {},
   "source": [
    "### Hypothesis Testing\n",
    "\n",
    "Hypothesis tests are a great way to statistically test hypotheses about potential trends in the data. They can help provide evidence for certain conclusions, depending on if the null hypothesis is rejected or not. The following hypothesis tests will attempt to provide support for these topics:\n",
    "\n",
    "1. Friday Active Calorie Mean v. Rest of Week Active Calorie Mean\n",
    "\n",
    "#### Active Calorie Means Test\n",
    "\n",
    "This first hypothesis test will try to answer the question: Is my active calories mean greatest on Fridays compared to the other days of the week?\n",
    "In order to answer this, a two independent sample test of means will be used. A level of significance 0.05 will be used.\n",
    "\n",
    "**Hypothesis Formualtion:**\n",
    "\n",
    "$H_0$ = $\\mu_{Friday} <= \\mu_{Rest of Week}$  \n",
    "$H_1$ = $\\mu_{Friday} > \\mu_{Rest of Week}$  \n",
    "$\\mu$ = average active calories burned  \n",
    "\n",
    "**Calculations:**\n",
    "\n",
    "$\\alpha = 0.05$  \n",
    "$df = n_1 + n_2 - 2 = 106$  \n",
    "$t_{critical} = 1.6594$  \n",
    "\n",
    "T-Statistic for Two-Sample Independent Test of Means:\n",
    "$$t = \\frac{\\overline{X_1} - \\overline{X_2}}{\\sqrt{s^2_p(\\frac{1}{n_1} + \\frac{1}{n_2})}}$$\n",
    "\n",
    "Pooled Variance:\n",
    "$$s^2_p = \\frac{(n_1 - 1)s_1^2 + (n_2 - 1)s_2^2}{n_1 + n_2 - 2}$$"
   ]
  },
  {
   "cell_type": "code",
   "execution_count": 476,
   "metadata": {},
   "outputs": [
    {
     "name": "stdout",
     "output_type": "stream",
     "text": [
      "t: 0.08232415215434889 pval: 0.46727210141202535\n",
      "Do Not Reject Null Hypothesis\n"
     ]
    }
   ],
   "source": [
    "from scipy import stats\n",
    "\n",
    "friday_list = []\n",
    "rest_week_list = []\n",
    "\n",
    "for i in range(len(daily_merged_df[\"Day of Week\"])):\n",
    "\n",
    "    if daily_merged_df.loc[i][\"Day of Week\"] == \"Friday\":\n",
    "        friday_list.append(daily_merged_df.loc[i][\"Calories\"])\n",
    "\n",
    "    else:\n",
    "        rest_week_list.append(daily_merged_df.loc[i][\"Calories\"])\n",
    "\n",
    "friday_ser = pd.Series(friday_list)\n",
    "rest_week_ser = pd.Series(rest_week_list)\n",
    "\n",
    "t, pval = stats.ttest_ind(friday_ser, rest_week_ser)\n",
    "pval /= 2\n",
    "print(\"t:\", t, \"pval:\", pval)\n",
    "\n",
    "if t > 1.6594:\n",
    "    print(\"Reject Null Hypothesis\")\n",
    "else:\n",
    "    print(\"Do Not Reject Null Hypothesis\")"
   ]
  },
  {
   "cell_type": "markdown",
   "metadata": {},
   "source": [
    "**Conclusion**\n",
    "\n",
    "Given a level of significance of 0.05, there is not sufficient evidence to reject the hypothesis that the other days of the week have a greater than or equal daily calorie mean than Friday does. This means that Friday cannot be confirmed as the most active day, calorie-wise, over the other days of the week."
   ]
  }
 ],
 "metadata": {
  "interpreter": {
   "hash": "10a6e54dcf7cd4a6e4c60a02b2c0aedf793edece3f95e71af56e4832a6f99a52"
  },
  "kernelspec": {
   "display_name": "Python 3.9.7 ('base')",
   "language": "python",
   "name": "python3"
  },
  "language_info": {
   "codemirror_mode": {
    "name": "ipython",
    "version": 3
   },
   "file_extension": ".py",
   "mimetype": "text/x-python",
   "name": "python",
   "nbconvert_exporter": "python",
   "pygments_lexer": "ipython3",
   "version": "3.9.7"
  },
  "orig_nbformat": 4
 },
 "nbformat": 4,
 "nbformat_minor": 2
}
