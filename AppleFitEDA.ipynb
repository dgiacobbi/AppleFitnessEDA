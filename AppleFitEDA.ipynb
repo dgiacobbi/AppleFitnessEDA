{
 "cells": [
  {
   "cell_type": "markdown",
   "metadata": {},
   "source": [
    "David Giacobbi  \n",
    "Gonzaga University  \n",
    "CPSC 222, Spring 2022\n",
    "\n",
    "# Exploratory Data Analysis: Apple Watch Fitness Data\n",
    "\n",
    "During my first year of college, fitness has been a critical aspect of my daily life and routine. In a place where nearly everything is in walking distance and I have the free time to workout on an ordered schedule, I realized fitness has a large impact on my daily habits. Moreover, I recently got an Apple Watch over Christmas break, so a detailed and accurate analysis of my fitness data was accessible for the Spring 2022 semester.\n",
    "\n",
    "Fitness data is a large spectrum, so I wanted to focus my project specifically on how certain day attributes affect my health and workout activity. Visualizing and testing trends could help answer a few of the following questions:\n",
    "\n",
    "* Does the type of weather affect the amount I workout?\n",
    "* Is my workout intensity influenced by the weather?\n",
    "* How does the day of the week affect how active I am?\n",
    "* Am I more active on the weekends when I have more free time or does a structured weekday schedule have a greater effect?\n",
    "\n",
    "In order to answer these questions, data cannot just be extracted from my Apple Watch. Additionally, I will utilize some open-source APIs to gather my weather and days of the week data.\n",
    "\n",
    "Through this exploratory data analysis, I will be able to get a better understanding of just what influences my fitness habits. Information like this could help me improve my daily schedule to workout more effectively as well as find areas in my schedule where fitness could improve. Furthermore, a focused analysis such as this one could draw more general conclusions about how the workout mindset is influenced by both weather and times during the week."
   ]
  },
  {
   "cell_type": "markdown",
   "metadata": {},
   "source": [
    "## Load the Data\n",
    "\n",
    "In order to perform an extensive analysis of my Apple watch data, I need to gather data from various sources so that I can see what exactly influences my fitness activity and what trends I have created over the past semester. The following datasets will be loaded and cleaned for further analysis:\n",
    "\n",
    "1. Apple Daily Health data (12/26/2021 - 4/12/2022)\n",
    "1. Apple Workout data (12/26/2021 - 4/12/2022)\n",
    "1. MeteoStat Daily Weather data\n",
    "1. Days of the Week data\n",
    "\n",
    "### Loading the CSV Files\n",
    "\n",
    "The Apple Watch data needs to be uploaded into `Pandas` dataframes so that they can be properly cleaned for analysis. This can be done with a few quick lines of code below:"
   ]
  },
  {
   "cell_type": "code",
   "execution_count": 7,
   "metadata": {},
   "outputs": [
    {
     "name": "stdout",
     "output_type": "stream",
     "text": [
      "Traditional Strength Training    41\n",
      "Walking                           6\n",
      "Basketball                        3\n",
      "Tennis                            2\n",
      "Climbing                          2\n",
      "Running                           1\n",
      "Stair Climbing                    1\n",
      "Soccer                            1\n",
      "Name: Type, dtype: int64\n",
      "                     Calories  Exercise Time (min)  Stand Hours  \\\n",
      "Date                                                              \n",
      "2021-12-26 00:00:00    795.75                 58.0          NaN   \n",
      "2021-12-27 00:00:00    122.38                  NaN          NaN   \n",
      "2021-12-28 00:00:00    440.65                 16.0          NaN   \n",
      "2021-12-29 00:00:00    332.06                 10.0          NaN   \n",
      "2021-12-30 00:00:00    702.97                 21.0          NaN   \n",
      "...                       ...                  ...          ...   \n",
      "2022-04-08 00:00:00   1368.00                132.0          NaN   \n",
      "2022-04-09 00:00:00    910.01                 90.0          NaN   \n",
      "2022-04-10 00:00:00    575.36                 32.0          NaN   \n",
      "2022-04-11 00:00:00   1500.00                117.0          NaN   \n",
      "2022-04-12 00:00:00   1081.00                 84.0          NaN   \n",
      "\n",
      "                     Flights Climbed  Heart Rate (bpm)  Max Heart Rate (bpm)  \\\n",
      "Date                                                                           \n",
      "2021-12-26 00:00:00              5.0              52.0                   179   \n",
      "2021-12-27 00:00:00              NaN              64.0                   100   \n",
      "2021-12-28 00:00:00              NaN              55.0                   150   \n",
      "2021-12-29 00:00:00              1.0              56.0                   120   \n",
      "2021-12-30 00:00:00              2.0              54.0                   167   \n",
      "...                              ...               ...                   ...   \n",
      "2022-04-08 00:00:00             10.0              50.0                   166   \n",
      "2022-04-09 00:00:00              4.0              44.0                   132   \n",
      "2022-04-10 00:00:00             11.0              54.0                   131   \n",
      "2022-04-11 00:00:00             10.0              53.0                   176   \n",
      "2022-04-12 00:00:00              8.0              57.0                   167   \n",
      "\n",
      "                     Avg Heart Rate (bpm)  Rest Heart Rate (bpm)  Step Count  \\\n",
      "Date                                                                           \n",
      "2021-12-26 00:00:00                101.24                   60.0       15617   \n",
      "2021-12-27 00:00:00                 84.99                   66.5        2999   \n",
      "2021-12-28 00:00:00                 81.39                    NaN        7685   \n",
      "2021-12-29 00:00:00                 74.21                   60.0        4607   \n",
      "2021-12-30 00:00:00                 98.27                   73.0       11340   \n",
      "...                                   ...                    ...         ...   \n",
      "2022-04-08 00:00:00                 96.67                   57.0       12416   \n",
      "2022-04-09 00:00:00                 86.16                   56.0       16839   \n",
      "2022-04-10 00:00:00                 77.16                   58.0        9689   \n",
      "2022-04-11 00:00:00                109.20                   72.0       14244   \n",
      "2022-04-12 00:00:00                104.17                   63.0        6867   \n",
      "\n",
      "                     Distance (mi)   \n",
      "Date                                 \n",
      "2021-12-26 00:00:00            7.63  \n",
      "2021-12-27 00:00:00            1.32  \n",
      "2021-12-28 00:00:00            4.03  \n",
      "2021-12-29 00:00:00            2.27  \n",
      "2021-12-30 00:00:00            5.38  \n",
      "...                             ...  \n",
      "2022-04-08 00:00:00            6.20  \n",
      "2022-04-09 00:00:00            7.58  \n",
      "2022-04-10 00:00:00            4.33  \n",
      "2022-04-11 00:00:00            6.47  \n",
      "2022-04-12 00:00:00            3.07  \n",
      "\n",
      "[108 rows x 10 columns]\n"
     ]
    }
   ],
   "source": [
    "import pandas as pd\n",
    "\n",
    "daily_health_df = pd.read_csv(\"daily_health_data.csv\", index_col=\"Date\")\n",
    "workouts_df = pd.read_csv(\"workouts_data.csv\")\n",
    "\n",
    "print(workouts_df[\"Type\"].value_counts())\n",
    "\n",
    "print(daily_health_df)"
   ]
  }
 ],
 "metadata": {
  "interpreter": {
   "hash": "10a6e54dcf7cd4a6e4c60a02b2c0aedf793edece3f95e71af56e4832a6f99a52"
  },
  "kernelspec": {
   "display_name": "Python 3.9.7 ('base')",
   "language": "python",
   "name": "python3"
  },
  "language_info": {
   "codemirror_mode": {
    "name": "ipython",
    "version": 3
   },
   "file_extension": ".py",
   "mimetype": "text/x-python",
   "name": "python",
   "nbconvert_exporter": "python",
   "pygments_lexer": "ipython3",
   "version": "3.9.7"
  },
  "orig_nbformat": 4
 },
 "nbformat": 4,
 "nbformat_minor": 2
}
