{
 "cells": [
  {
   "cell_type": "markdown",
   "metadata": {},
   "source": [
    "David Giacobbi  \n",
    "Gonzaga University  \n",
    "CPSC 222, Spring 2022\n",
    "\n",
    "# Exploratory Data Analysis: Apple Watch Fitness Data\n",
    "\n",
    "## Introduction"
   ]
  }
 ],
 "metadata": {
  "language_info": {
   "name": "python"
  },
  "orig_nbformat": 4
 },
 "nbformat": 4,
 "nbformat_minor": 2
}
